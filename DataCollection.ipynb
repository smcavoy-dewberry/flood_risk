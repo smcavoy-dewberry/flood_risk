{
 "cells": [
  {
   "cell_type": "code",
   "execution_count": 2,
   "metadata": {},
   "outputs": [],
   "source": [
    "import pandas as pd\n",
    "import arcpy\n",
    "import numpy as np\n",
    "import os\n",
    "from arcpy import management\n",
    "\n",
    "arcpy.env.overwriteOutput = True\n",
    "arcpy.env.workspace = r\"P:\\Temp\\McAvoy\\ML_DataCollection\\MeridianHills\\\\\""
   ]
  },
  {
   "cell_type": "code",
   "execution_count": 43,
   "metadata": {},
   "outputs": [],
   "source": [
    "points = r\"P:\\Temp\\McAvoy\\ML_DataCollection\\MeridianHills\\MeridianHills.xlsx\"\n",
    "sheet = \"MeridianHills\"\n",
    "dem = r\"C:\\Users\\smcavoy\\Downloads\\USGS_13_n40w087.tif\"\n",
    "parcels = r\"P:\\Temp\\McAvoy\\ML_DataCollection\\MeridianHills\\MeridianHills_DataCollection\\MeridianHills_DataCollection.gdb\\Parcels_Merge.shp\"\n",
    "nfhl_flood_hazard_area = r\"P:\\Temp\\McAvoy\\ML_DataCollection\\MeridianHills\\MeridianHills_DataCollection\\NFHL_18_20200310.gdb\\S_FLD_HAZ_AR.shp\"\n",
    "frd_depth_grid_100yr = \"\"\n",
    "frd_depth_grid_10yr = \"\"\n",
    "building_footprints = r\"P:\\Temp\\McAvoy\\ML_DataCollection\\MeridianHills\\MeridianHills_DataCollection\\MeridianHills_DataCollection.gdb\\Indiana_JSONToFeatures.shp\"\n",
    "land_use = r\"P:\\Temp\\McAvoy\\ML_DataCollection\\NLCD_2016_Land_Cover_L48_20190424.img\"\n",
    "subwatershed = r\"P:\\Temp\\McAvoy\\ML_DataCollection\\MeridianHills\\MeridianHills_DataCollection\\MeridianHills_DataCollection.gdb\\HUC051202011006\""
   ]
  },
  {
   "cell_type": "code",
   "execution_count": null,
   "metadata": {},
   "outputs": [],
   "source": [
    "#turn Milliman point csv into points shapefile \n",
    "points = arcpy.ExcelToTable_conversion(points, \"points\", sheet)\n",
    "\n",
    "arcpy.management.XYTableToPoint(points, \"milliman_points\", \"lon\", \"lat\", \"GroundElev\")\n",
    "\n"
   ]
  },
  {
   "cell_type": "code",
   "execution_count": 31,
   "metadata": {},
   "outputs": [],
   "source": [
    "points = r\"P:\\Temp\\McAvoy\\ML_DataCollection\\MeridianHills\\MeridianHills_DataCollection\\MeridianHills_DataCollection.gdb\\MeridianHills_Points\""
   ]
  },
  {
   "cell_type": "code",
   "execution_count": 5,
   "metadata": {},
   "outputs": [
    {
     "name": "stdout",
     "output_type": "stream",
     "text": [
      "selected building footprints\n",
      "copied building footprints\n"
     ]
    }
   ],
   "source": [
    "\n",
    "\n",
    "\n",
    "#select building footprints that intersect with Milliman points\n",
    "selection1 = arcpy.SelectLayerByLocation_management(building_footprints, \"INTERSECT\", points, 0, \"NEW_SELECTION\", \"NOT_INVERT\")\n",
    "\n",
    "print(\"selected building footprints\")\n",
    "\n",
    "#copy selected features to new feature class\n",
    "arcpy.CopyFeatures_management(selection1, \"footprints\")\n",
    "\n",
    "print(\"copied building footprints\")\n"
   ]
  },
  {
   "cell_type": "code",
   "execution_count": 16,
   "metadata": {},
   "outputs": [
    {
     "name": "stdout",
     "output_type": "stream",
     "text": [
      "selected points\n",
      "copied extra points\n"
     ]
    }
   ],
   "source": [
    "#switch selection1 so that only points that DONT intersect building footprints are selected\n",
    "selection2 = arcpy.SelectLayerByLocation_management(points, \"INTERSECT\", \"footprints.shp\", 0, \"NEW_SELECTION\", \"INVERT\")\n",
    "\n",
    "print(\"selected points\")\n",
    "\n",
    "#copy the selected footprints to new feature class\n",
    "extra_points = arcpy.CopyFeatures_management(selection2, \"extra_points\")\n",
    "\n",
    "print(\"copied extra points\")\n",
    "\n",
    "\n"
   ]
  },
  {
   "cell_type": "code",
   "execution_count": 17,
   "metadata": {},
   "outputs": [
    {
     "name": "stdout",
     "output_type": "stream",
     "text": [
      "buffered points\n"
     ]
    }
   ],
   "source": [
    "\n",
    "#make a 10m buffer around the points that don't have footprints\n",
    "buffer = arcpy.Buffer_analysis(\"extra_points.shp\", \"new_footprints\", \"10 Meters\")\n",
    "\n",
    "print(\"buffered points\")"
   ]
  },
  {
   "cell_type": "code",
   "execution_count": 18,
   "metadata": {},
   "outputs": [],
   "source": [
    "#merge the selected Bing building footprints witht the newly created buffer footprints\n",
    "all_footprints = arcpy.Merge_management([\"footprints.shp\", \"new_footprints.shp\"], \"all_footprints\")\n",
    "\n"
   ]
  },
  {
   "cell_type": "code",
   "execution_count": 19,
   "metadata": {},
   "outputs": [
    {
     "name": "stdout",
     "output_type": "stream",
     "text": [
      "max and min elevations gotten for footprints\n"
     ]
    }
   ],
   "source": [
    "#get max elevation on footprints\n",
    "max_el_footprints = arcpy.sa.ZonalStatistics(all_footprints, \"FID\", arcpy.sa.Raster(dem), \"MAXIMUM\")\n",
    "\n",
    "#get min elevation on footprints\n",
    "min_el_footprints = arcpy.sa.ZonalStatistics(all_footprints, \"FID\", arcpy.sa.Raster(dem), \"MINIMUM\")\n",
    "\n",
    "print(\"max and min elevations gotten for footprints\")"
   ]
  },
  {
   "cell_type": "code",
   "execution_count": 20,
   "metadata": {},
   "outputs": [
    {
     "data": {
      "text/plain": [
       "<Result 'P:\\\\Temp\\\\McAvoy\\\\ML_DataCollection\\\\MeridianHills\\\\all_parcels.shp'>"
      ]
     },
     "execution_count": 20,
     "metadata": {},
     "output_type": "execute_result"
    }
   ],
   "source": [
    "#select parcels that intersect with milliman points\n",
    "parcels_selection = arcpy.SelectLayerByLocation_management(parcels, \"INTERSECT\", points, 0, \"NEW_SELECTION\", \"NOT_INVERT\")\n",
    "arcpy.CopyFeatures_management(parcels_selection, \"all_parcels\")"
   ]
  },
  {
   "cell_type": "code",
   "execution_count": 22,
   "metadata": {},
   "outputs": [
    {
     "name": "stdout",
     "output_type": "stream",
     "text": [
      "max, min, and average elevations gotten for parcels\n"
     ]
    }
   ],
   "source": [
    "#get max elevation on parcels\n",
    "max_el_parcels = arcpy.sa.ZonalStatistics(\"all_parcels.shp\", \"FID\", arcpy.sa.Raster(dem), \"MAXIMUM\")\n",
    "\n",
    "#get min elevation on parcels\n",
    "min_el_parcels = arcpy.sa.ZonalStatistics(\"all_parcels.shp\", \"FID\", arcpy.sa.Raster(dem), \"MINIMUM\")\n",
    "\n",
    "#get avg elevation on parcels\n",
    "avg_el_parcels = arcpy.sa.ZonalStatistics(\"all_parcels.shp\", \"FID\", arcpy.sa.Raster(dem), \"MEAN\")\n",
    "\n",
    "print(\"max, min, and average elevations gotten for parcels\")"
   ]
  },
  {
   "cell_type": "code",
   "execution_count": 23,
   "metadata": {},
   "outputs": [
    {
     "name": "stdout",
     "output_type": "stream",
     "text": [
      "slope gotten for all parcels\n"
     ]
    }
   ],
   "source": [
    "#get slope of all pixels in the dem\n",
    "slope = arcpy.sa.Slope(arcpy.sa.Raster(dem), \"PERCENT_RISE\")\n",
    "\n",
    "#get average slope for parcels\n",
    "slope_parcels = arcpy.sa.ZonalStatistics(\"all_parcels.shp\", \"FID\", arcpy.sa.Raster(slope), \"MEAN\")\n",
    "\n",
    "print(\"slope gotten for all parcels\")"
   ]
  },
  {
   "cell_type": "code",
   "execution_count": 25,
   "metadata": {},
   "outputs": [
    {
     "name": "stdout",
     "output_type": "stream",
     "text": [
      "aspect gotten for all parcels\n"
     ]
    }
   ],
   "source": [
    "#get aspect of all pixels in the dem\n",
    "aspect = arcpy.sa.Aspect(arcpy.sa.Raster(dem))\n",
    "\n",
    "#get average aspect for parcels\n",
    "aspect_parcels = arcpy.sa.ZonalStatistics(\"all_parcels.shp\", \"FID\", arcpy.sa.Raster(aspect), \"MEAN\")\n",
    "\n",
    "print(\"aspect gotten for all parcels\")\n"
   ]
  },
  {
   "cell_type": "code",
   "execution_count": null,
   "metadata": {},
   "outputs": [],
   "source": [
    "\n"
   ]
  },
  {
   "cell_type": "code",
   "execution_count": 36,
   "metadata": {},
   "outputs": [
    {
     "name": "stdout",
     "output_type": "stream",
     "text": [
      "created nfhl floodway shapefile\n",
      "ran Near tool\n"
     ]
    }
   ],
   "source": [
    "#get distance to flooding source\n",
    "#use Near tool to create XY location of nearest point and distance\n",
    "#distance between milliman point and NFHL S_FLD_HAZ_AR where Flood Zone = AE and Zone Subtype = Floodway\n",
    "\n",
    "#select floodways and make new feature class\n",
    "floodway = arcpy.management.SelectLayerByAttribute(nfhl_flood_hazard_area, \"NEW_SELECTION\", \n",
    "                                                   \"FLD_ZONE = 'AE' And ZONE_SUBTY = 'FLOODWAY'\", None)\n",
    "\n",
    "arcpy.CopyFeatures_management(floodway, \"nfhl_floodway\")\n",
    "\n",
    "print(\"created nfhl floodway shapefile\")\n",
    "\n",
    "#use Near tool, specify LOCATION to include XY coordinates along floodways \n",
    "arcpy.Near_analysis(points, \"nfhl_floodway.shp\", \"\", \"LOCATION\" )\n",
    "\n",
    "print(\"ran Near tool\")\n"
   ]
  },
  {
   "cell_type": "code",
   "execution_count": 37,
   "metadata": {
    "collapsed": true
   },
   "outputs": [
    {
     "ename": "AttributeError",
     "evalue": "'ToolValidator' object has no attribute 'isLicensed'",
     "output_type": "error",
     "traceback": [
      "\u001b[1;31m---------------------------------------------------------------------------\u001b[0m",
      "\u001b[1;31mAttributeError\u001b[0m                            Traceback (most recent call last)",
      "\u001b[1;32mc:\\program files\\arcgis\\pro\\Resources\\ArcToolbox\\toolboxes\\Data Management Tools.tbx#XYTableToPoint_management.InitializeParameters.py\u001b[0m in \u001b[0;36m<module>\u001b[1;34m\u001b[0m\n",
      "\u001b[1;31mAttributeError\u001b[0m: 'ToolValidator' object has no attribute 'isLicensed'"
     ]
    },
    {
     "ename": "AttributeError",
     "evalue": "'ToolValidator' object has no attribute 'isLicensed'",
     "output_type": "error",
     "traceback": [
      "\u001b[1;31m---------------------------------------------------------------------------\u001b[0m",
      "\u001b[1;31mAttributeError\u001b[0m                            Traceback (most recent call last)",
      "\u001b[1;32mc:\\program files\\arcgis\\pro\\Resources\\ArcToolbox\\toolboxes\\Data Management Tools.tbx#XYTableToPoint_management.InitializeParameters.py\u001b[0m in \u001b[0;36m<module>\u001b[1;34m\u001b[0m\n",
      "\u001b[1;31mAttributeError\u001b[0m: 'ToolValidator' object has no attribute 'isLicensed'"
     ]
    },
    {
     "name": "stdout",
     "output_type": "stream",
     "text": [
      "Near points created\n"
     ]
    },
    {
     "ename": "ExecuteError",
     "evalue": "ERROR 001268: Input rasters: The input item, , is invalid.\nFailed to execute (ExtractMultiValuesToPoints).\n",
     "output_type": "error",
     "traceback": [
      "\u001b[1;31m---------------------------------------------------------------------------\u001b[0m",
      "\u001b[1;31mExecuteError\u001b[0m                              Traceback (most recent call last)",
      "\u001b[1;32m<ipython-input-37-443602b8cc3e>\u001b[0m in \u001b[0;36m<module>\u001b[1;34m\u001b[0m\n\u001b[0;32m      7\u001b[0m \u001b[1;31m#extract values from FRD\u001b[0m\u001b[1;33m\u001b[0m\u001b[1;33m\u001b[0m\u001b[1;33m\u001b[0m\u001b[0m\n\u001b[0;32m      8\u001b[0m \u001b[0mraster_list1\u001b[0m \u001b[1;33m=\u001b[0m \u001b[1;33m[\u001b[0m\u001b[1;33m[\u001b[0m\u001b[0mfrd_depth_grid_100yr\u001b[0m\u001b[1;33m,\u001b[0m \u001b[1;34m\"depth100_riv\"\u001b[0m\u001b[1;33m]\u001b[0m\u001b[1;33m,\u001b[0m \u001b[1;33m[\u001b[0m\u001b[0mfrd_depth_grid_10yr\u001b[0m\u001b[1;33m,\u001b[0m \u001b[1;34m\"depth10_riv\"\u001b[0m\u001b[1;33m]\u001b[0m\u001b[1;33m]\u001b[0m\u001b[1;33m\u001b[0m\u001b[1;33m\u001b[0m\u001b[0m\n\u001b[1;32m----> 9\u001b[1;33m \u001b[0marcpy\u001b[0m\u001b[1;33m.\u001b[0m\u001b[0msa\u001b[0m\u001b[1;33m.\u001b[0m\u001b[0mExtractMultiValuesToPoints\u001b[0m\u001b[1;33m(\u001b[0m\u001b[0mnear_points\u001b[0m\u001b[1;33m,\u001b[0m \u001b[0mraster_list1\u001b[0m\u001b[1;33m)\u001b[0m\u001b[1;33m\u001b[0m\u001b[1;33m\u001b[0m\u001b[0m\n\u001b[0m\u001b[0;32m     10\u001b[0m \u001b[1;33m\u001b[0m\u001b[0m\n\u001b[0;32m     11\u001b[0m \u001b[0mprint\u001b[0m\u001b[1;33m(\u001b[0m\u001b[1;34m\"extracted flood depths at near points\"\u001b[0m\u001b[1;33m)\u001b[0m\u001b[1;33m\u001b[0m\u001b[1;33m\u001b[0m\u001b[0m\n",
      "\u001b[1;32mC:\\Program Files\\ArcGIS\\Pro\\Resources\\ArcPy\\arcpy\\sa\\Functions.py\u001b[0m in \u001b[0;36mExtractMultiValuesToPoints\u001b[1;34m(in_point_features, in_rasters, bilinear_interpolate_values)\u001b[0m\n\u001b[0;32m   7485\u001b[0m         \u001b[0min_point_features\u001b[0m\u001b[1;33m,\u001b[0m\u001b[1;33m\u001b[0m\u001b[1;33m\u001b[0m\u001b[0m\n\u001b[0;32m   7486\u001b[0m         \u001b[0min_rasters\u001b[0m\u001b[1;33m,\u001b[0m\u001b[1;33m\u001b[0m\u001b[1;33m\u001b[0m\u001b[0m\n\u001b[1;32m-> 7487\u001b[1;33m         bilinear_interpolate_values)\n\u001b[0m\u001b[0;32m   7488\u001b[0m \u001b[0mExtractMultiValuesToPoints\u001b[0m\u001b[1;33m.\u001b[0m\u001b[0m__esri_toolname__\u001b[0m \u001b[1;33m=\u001b[0m \u001b[1;34m\"ExtractMultiValuesToPoints_sa\"\u001b[0m\u001b[1;33m\u001b[0m\u001b[1;33m\u001b[0m\u001b[0m\n\u001b[0;32m   7489\u001b[0m ExtractMultiValuesToPoints.__esri_toolinfo__ = [\n",
      "\u001b[1;32mC:\\Program Files\\ArcGIS\\Pro\\Resources\\ArcPy\\arcpy\\sa\\Utils.py\u001b[0m in \u001b[0;36mswapper\u001b[1;34m(*args, **kwargs)\u001b[0m\n\u001b[0;32m     51\u001b[0m \u001b[1;33m\u001b[0m\u001b[0m\n\u001b[0;32m     52\u001b[0m             \u001b[1;32mtry\u001b[0m\u001b[1;33m:\u001b[0m\u001b[1;33m\u001b[0m\u001b[1;33m\u001b[0m\u001b[0m\n\u001b[1;32m---> 53\u001b[1;33m                 \u001b[0mresult\u001b[0m \u001b[1;33m=\u001b[0m \u001b[0mwrapper\u001b[0m\u001b[1;33m(\u001b[0m\u001b[1;33m*\u001b[0m\u001b[0margs\u001b[0m\u001b[1;33m,\u001b[0m \u001b[1;33m**\u001b[0m\u001b[0mkwargs\u001b[0m\u001b[1;33m)\u001b[0m\u001b[1;33m\u001b[0m\u001b[1;33m\u001b[0m\u001b[0m\n\u001b[0m\u001b[0;32m     54\u001b[0m             \u001b[1;32mfinally\u001b[0m\u001b[1;33m:\u001b[0m\u001b[1;33m\u001b[0m\u001b[1;33m\u001b[0m\u001b[0m\n\u001b[0;32m     55\u001b[0m                 \u001b[1;31m# Reset the geoprocessor state to the original setting.\u001b[0m\u001b[1;33m\u001b[0m\u001b[1;33m\u001b[0m\u001b[1;33m\u001b[0m\u001b[0m\n",
      "\u001b[1;32mC:\\Program Files\\ArcGIS\\Pro\\Resources\\ArcPy\\arcpy\\sa\\Functions.py\u001b[0m in \u001b[0;36mWrapper\u001b[1;34m(in_point_features, in_rasters, bilinear_interpolate_values)\u001b[0m\n\u001b[0;32m   7480\u001b[0m             \u001b[0min_point_features\u001b[0m\u001b[1;33m,\u001b[0m\u001b[1;33m\u001b[0m\u001b[1;33m\u001b[0m\u001b[0m\n\u001b[0;32m   7481\u001b[0m             \u001b[0min_rasters\u001b[0m\u001b[1;33m,\u001b[0m\u001b[1;33m\u001b[0m\u001b[1;33m\u001b[0m\u001b[0m\n\u001b[1;32m-> 7482\u001b[1;33m             bilinear_interpolate_values)\n\u001b[0m\u001b[0;32m   7483\u001b[0m         \u001b[1;32mreturn\u001b[0m \u001b[0mresult\u001b[0m\u001b[1;33m\u001b[0m\u001b[1;33m\u001b[0m\u001b[0m\n\u001b[0;32m   7484\u001b[0m     return Wrapper(\n",
      "\u001b[1;32mC:\\Program Files\\ArcGIS\\Pro\\Resources\\ArcPy\\arcpy\\geoprocessing\\_base.py\u001b[0m in \u001b[0;36m<lambda>\u001b[1;34m(*args)\u001b[0m\n\u001b[0;32m    509\u001b[0m         \u001b[0mval\u001b[0m \u001b[1;33m=\u001b[0m \u001b[0mgetattr\u001b[0m\u001b[1;33m(\u001b[0m\u001b[0mself\u001b[0m\u001b[1;33m.\u001b[0m\u001b[0m_gp\u001b[0m\u001b[1;33m,\u001b[0m \u001b[0mattr\u001b[0m\u001b[1;33m)\u001b[0m\u001b[1;33m\u001b[0m\u001b[1;33m\u001b[0m\u001b[0m\n\u001b[0;32m    510\u001b[0m         \u001b[1;32mif\u001b[0m \u001b[0mcallable\u001b[0m\u001b[1;33m(\u001b[0m\u001b[0mval\u001b[0m\u001b[1;33m)\u001b[0m\u001b[1;33m:\u001b[0m\u001b[1;33m\u001b[0m\u001b[1;33m\u001b[0m\u001b[0m\n\u001b[1;32m--> 511\u001b[1;33m             \u001b[1;32mreturn\u001b[0m \u001b[1;32mlambda\u001b[0m \u001b[1;33m*\u001b[0m\u001b[0margs\u001b[0m\u001b[1;33m:\u001b[0m \u001b[0mval\u001b[0m\u001b[1;33m(\u001b[0m\u001b[1;33m*\u001b[0m\u001b[0mgp_fixargs\u001b[0m\u001b[1;33m(\u001b[0m\u001b[0margs\u001b[0m\u001b[1;33m,\u001b[0m \u001b[1;32mTrue\u001b[0m\u001b[1;33m)\u001b[0m\u001b[1;33m)\u001b[0m\u001b[1;33m\u001b[0m\u001b[1;33m\u001b[0m\u001b[0m\n\u001b[0m\u001b[0;32m    512\u001b[0m         \u001b[1;32melse\u001b[0m\u001b[1;33m:\u001b[0m\u001b[1;33m\u001b[0m\u001b[1;33m\u001b[0m\u001b[0m\n\u001b[0;32m    513\u001b[0m             \u001b[1;32mreturn\u001b[0m \u001b[0mconvertArcObjectToPythonObject\u001b[0m\u001b[1;33m(\u001b[0m\u001b[0mval\u001b[0m\u001b[1;33m)\u001b[0m\u001b[1;33m\u001b[0m\u001b[1;33m\u001b[0m\u001b[0m\n",
      "\u001b[1;31mExecuteError\u001b[0m: ERROR 001268: Input rasters: The input item, , is invalid.\nFailed to execute (ExtractMultiValuesToPoints).\n"
     ]
    }
   ],
   "source": [
    "#get 100 yr and 10 yr flood depths at nearest points in floodways \n",
    "#make points from XY data in Near table output\n",
    "near_points = arcpy.XYTableToPoint_management(points, \"near_points\", \"NEAR_X\", \"NEAR_Y\")\n",
    "\n",
    "print(\"Near points created\")\n",
    "\n",
    "#extract values from FRD\n",
    "raster_list1 = [[frd_depth_grid_100yr, \"depth100_riv\"], [frd_depth_grid_10yr, \"depth10_riv\"]]\n",
    "arcpy.sa.ExtractMultiValuesToPoints(near_points, raster_list1)\n",
    "\n",
    "print(\"extracted flood depths at near points\")"
   ]
  },
  {
   "cell_type": "code",
   "execution_count": 40,
   "metadata": {},
   "outputs": [
    {
     "data": {
      "text/plain": [
       "<geoprocessing server result object at 0x1df12aa4648>"
      ]
     },
     "execution_count": 40,
     "metadata": {},
     "output_type": "execute_result"
    }
   ],
   "source": [
    "#get the values from all of the rasters created and collected extracted to points\n",
    "raster_list2 = [[max_el_footprints, \"max_fp\"], [min_el_footprints, \"min_fp\"], [max_el_parcels, \"max_parcel\"],\n",
    "               [min_el_parcels, \"min_parcel\"], [avg_el_parcels, \"avg_parcel\"], [slope_parcels, \"slope\"], \n",
    "                [aspect_parcels, \"aspect\"],  [arcpy.sa.Raster(land_use), \"land_use\"]]\n",
    "#[frd_depth_grid_100yr, \"depth100\"],  [frd_depth_grid_10yr, \"depth10\"]]\n",
    "\n",
    "arcpy.sa.ExtractMultiValuesToPoints(points, raster_list2)\n"
   ]
  },
  {
   "cell_type": "code",
   "execution_count": 41,
   "metadata": {
    "collapsed": true
   },
   "outputs": [
    {
     "ename": "ExecuteError",
     "evalue": "ERROR 000622: Failed to execute (Spatial Join). Parameters are not valid.\nERROR 000800: The value is not a member of KEEP_ALL | KEEP_COMMON.\n",
     "output_type": "error",
     "traceback": [
      "\u001b[1;31m---------------------------------------------------------------------------\u001b[0m",
      "\u001b[1;31mExecuteError\u001b[0m                              Traceback (most recent call last)",
      "\u001b[1;32m<ipython-input-41-ebe8a483bf4f>\u001b[0m in \u001b[0;36m<module>\u001b[1;34m\u001b[0m\n\u001b[0;32m      3\u001b[0m \u001b[1;33m\u001b[0m\u001b[0m\n\u001b[0;32m      4\u001b[0m \u001b[1;31m#spatial join the tax parcel fields that have to do with property value\u001b[0m\u001b[1;33m\u001b[0m\u001b[1;33m\u001b[0m\u001b[1;33m\u001b[0m\u001b[0m\n\u001b[1;32m----> 5\u001b[1;33m \u001b[0marcpy\u001b[0m\u001b[1;33m.\u001b[0m\u001b[0mSpatialJoin_analysis\u001b[0m\u001b[1;33m(\u001b[0m\u001b[0mpoints\u001b[0m\u001b[1;33m,\u001b[0m \u001b[0mparcels\u001b[0m\u001b[1;33m,\u001b[0m \u001b[1;34m\"final_points\"\u001b[0m\u001b[1;33m,\u001b[0m \u001b[1;34m\"JOIN_ONE_TO_MANY\"\u001b[0m\u001b[1;33m,\u001b[0m \u001b[1;34m\"KEEP ALL\"\u001b[0m\u001b[1;33m,\u001b[0m \u001b[1;33m)\u001b[0m\u001b[1;33m\u001b[0m\u001b[1;33m\u001b[0m\u001b[0m\n\u001b[0m",
      "\u001b[1;32mC:\\Program Files\\ArcGIS\\Pro\\Resources\\ArcPy\\arcpy\\analysis.py\u001b[0m in \u001b[0;36mSpatialJoin\u001b[1;34m(target_features, join_features, out_feature_class, join_operation, join_type, field_mapping, match_option, search_radius, distance_field_name)\u001b[0m\n\u001b[0;32m    670\u001b[0m         \u001b[1;32mreturn\u001b[0m \u001b[0mretval\u001b[0m\u001b[1;33m\u001b[0m\u001b[1;33m\u001b[0m\u001b[0m\n\u001b[0;32m    671\u001b[0m     \u001b[1;32mexcept\u001b[0m \u001b[0mException\u001b[0m \u001b[1;32mas\u001b[0m \u001b[0me\u001b[0m\u001b[1;33m:\u001b[0m\u001b[1;33m\u001b[0m\u001b[1;33m\u001b[0m\u001b[0m\n\u001b[1;32m--> 672\u001b[1;33m         \u001b[1;32mraise\u001b[0m \u001b[0me\u001b[0m\u001b[1;33m\u001b[0m\u001b[1;33m\u001b[0m\u001b[0m\n\u001b[0m\u001b[0;32m    673\u001b[0m \u001b[1;33m\u001b[0m\u001b[0m\n\u001b[0;32m    674\u001b[0m \u001b[1;33m@\u001b[0m\u001b[0mgptooldoc\u001b[0m\u001b[1;33m(\u001b[0m\u001b[1;34m'SymDiff_analysis'\u001b[0m\u001b[1;33m,\u001b[0m \u001b[1;32mNone\u001b[0m\u001b[1;33m)\u001b[0m\u001b[1;33m\u001b[0m\u001b[1;33m\u001b[0m\u001b[0m\n",
      "\u001b[1;32mC:\\Program Files\\ArcGIS\\Pro\\Resources\\ArcPy\\arcpy\\analysis.py\u001b[0m in \u001b[0;36mSpatialJoin\u001b[1;34m(target_features, join_features, out_feature_class, join_operation, join_type, field_mapping, match_option, search_radius, distance_field_name)\u001b[0m\n\u001b[0;32m    667\u001b[0m     \u001b[1;32mfrom\u001b[0m \u001b[0marcpy\u001b[0m\u001b[1;33m.\u001b[0m\u001b[0marcobjects\u001b[0m\u001b[1;33m.\u001b[0m\u001b[0marcobjectconversion\u001b[0m \u001b[1;32mimport\u001b[0m \u001b[0mconvertArcObjectToPythonObject\u001b[0m\u001b[1;33m\u001b[0m\u001b[1;33m\u001b[0m\u001b[0m\n\u001b[0;32m    668\u001b[0m     \u001b[1;32mtry\u001b[0m\u001b[1;33m:\u001b[0m\u001b[1;33m\u001b[0m\u001b[1;33m\u001b[0m\u001b[0m\n\u001b[1;32m--> 669\u001b[1;33m         \u001b[0mretval\u001b[0m \u001b[1;33m=\u001b[0m \u001b[0mconvertArcObjectToPythonObject\u001b[0m\u001b[1;33m(\u001b[0m\u001b[0mgp\u001b[0m\u001b[1;33m.\u001b[0m\u001b[0mSpatialJoin_analysis\u001b[0m\u001b[1;33m(\u001b[0m\u001b[1;33m*\u001b[0m\u001b[0mgp_fixargs\u001b[0m\u001b[1;33m(\u001b[0m\u001b[1;33m(\u001b[0m\u001b[0mtarget_features\u001b[0m\u001b[1;33m,\u001b[0m \u001b[0mjoin_features\u001b[0m\u001b[1;33m,\u001b[0m \u001b[0mout_feature_class\u001b[0m\u001b[1;33m,\u001b[0m \u001b[0mjoin_operation\u001b[0m\u001b[1;33m,\u001b[0m \u001b[0mjoin_type\u001b[0m\u001b[1;33m,\u001b[0m \u001b[0mfield_mapping\u001b[0m\u001b[1;33m,\u001b[0m \u001b[0mmatch_option\u001b[0m\u001b[1;33m,\u001b[0m \u001b[0msearch_radius\u001b[0m\u001b[1;33m,\u001b[0m \u001b[0mdistance_field_name\u001b[0m\u001b[1;33m)\u001b[0m\u001b[1;33m,\u001b[0m \u001b[1;32mTrue\u001b[0m\u001b[1;33m)\u001b[0m\u001b[1;33m)\u001b[0m\u001b[1;33m)\u001b[0m\u001b[1;33m\u001b[0m\u001b[1;33m\u001b[0m\u001b[0m\n\u001b[0m\u001b[0;32m    670\u001b[0m         \u001b[1;32mreturn\u001b[0m \u001b[0mretval\u001b[0m\u001b[1;33m\u001b[0m\u001b[1;33m\u001b[0m\u001b[0m\n\u001b[0;32m    671\u001b[0m     \u001b[1;32mexcept\u001b[0m \u001b[0mException\u001b[0m \u001b[1;32mas\u001b[0m \u001b[0me\u001b[0m\u001b[1;33m:\u001b[0m\u001b[1;33m\u001b[0m\u001b[1;33m\u001b[0m\u001b[0m\n",
      "\u001b[1;32mC:\\Program Files\\ArcGIS\\Pro\\Resources\\ArcPy\\arcpy\\geoprocessing\\_base.py\u001b[0m in \u001b[0;36m<lambda>\u001b[1;34m(*args)\u001b[0m\n\u001b[0;32m    509\u001b[0m         \u001b[0mval\u001b[0m \u001b[1;33m=\u001b[0m \u001b[0mgetattr\u001b[0m\u001b[1;33m(\u001b[0m\u001b[0mself\u001b[0m\u001b[1;33m.\u001b[0m\u001b[0m_gp\u001b[0m\u001b[1;33m,\u001b[0m \u001b[0mattr\u001b[0m\u001b[1;33m)\u001b[0m\u001b[1;33m\u001b[0m\u001b[1;33m\u001b[0m\u001b[0m\n\u001b[0;32m    510\u001b[0m         \u001b[1;32mif\u001b[0m \u001b[0mcallable\u001b[0m\u001b[1;33m(\u001b[0m\u001b[0mval\u001b[0m\u001b[1;33m)\u001b[0m\u001b[1;33m:\u001b[0m\u001b[1;33m\u001b[0m\u001b[1;33m\u001b[0m\u001b[0m\n\u001b[1;32m--> 511\u001b[1;33m             \u001b[1;32mreturn\u001b[0m \u001b[1;32mlambda\u001b[0m \u001b[1;33m*\u001b[0m\u001b[0margs\u001b[0m\u001b[1;33m:\u001b[0m \u001b[0mval\u001b[0m\u001b[1;33m(\u001b[0m\u001b[1;33m*\u001b[0m\u001b[0mgp_fixargs\u001b[0m\u001b[1;33m(\u001b[0m\u001b[0margs\u001b[0m\u001b[1;33m,\u001b[0m \u001b[1;32mTrue\u001b[0m\u001b[1;33m)\u001b[0m\u001b[1;33m)\u001b[0m\u001b[1;33m\u001b[0m\u001b[1;33m\u001b[0m\u001b[0m\n\u001b[0m\u001b[0;32m    512\u001b[0m         \u001b[1;32melse\u001b[0m\u001b[1;33m:\u001b[0m\u001b[1;33m\u001b[0m\u001b[1;33m\u001b[0m\u001b[0m\n\u001b[0;32m    513\u001b[0m             \u001b[1;32mreturn\u001b[0m \u001b[0mconvertArcObjectToPythonObject\u001b[0m\u001b[1;33m(\u001b[0m\u001b[0mval\u001b[0m\u001b[1;33m)\u001b[0m\u001b[1;33m\u001b[0m\u001b[1;33m\u001b[0m\u001b[0m\n",
      "\u001b[1;31mExecuteError\u001b[0m: ERROR 000622: Failed to execute (Spatial Join). Parameters are not valid.\nERROR 000800: The value is not a member of KEEP_ALL | KEEP_COMMON.\n"
     ]
    }
   ],
   "source": [
    "#join the near_points features with the points features based on the plus code\n",
    "#arcpy.AddJoin_management(points, \"plus_code\", near_points, \"plus_code\")\n",
    "\n",
    "#spatial join the tax parcel fields that have to do with property value\n",
    "arcpy.SpatialJoin_analysis(points, parcels, \"final_points\", \"JOIN_ONE_TO_MANY\", \"KEEP ALL\", )\n"
   ]
  },
  {
   "cell_type": "markdown",
   "metadata": {},
   "source": [
    "## subwatershed (HUC12) characteristics ##"
   ]
  },
  {
   "cell_type": "code",
   "execution_count": 45,
   "metadata": {},
   "outputs": [
    {
     "ename": "AttributeError",
     "evalue": "'ToolValidator' object has no attribute 'isLicensed'",
     "output_type": "error",
     "traceback": [
      "\u001b[1;31m---------------------------------------------------------------------------\u001b[0m",
      "\u001b[1;31mAttributeError\u001b[0m                            Traceback (most recent call last)",
      "\u001b[1;32mc:\\program files\\arcgis\\pro\\Resources\\ArcToolbox\\toolboxes\\Data Management Tools.tbx#CalculateGeometryAttributes_management.InitializeParameters.py\u001b[0m in \u001b[0;36m<module>\u001b[1;34m\u001b[0m\n",
      "\u001b[1;31mAttributeError\u001b[0m: 'ToolValidator' object has no attribute 'isLicensed'"
     ]
    },
    {
     "ename": "AttributeError",
     "evalue": "'ToolValidator' object has no attribute 'isLicensed'",
     "output_type": "error",
     "traceback": [
      "\u001b[1;31m---------------------------------------------------------------------------\u001b[0m",
      "\u001b[1;31mAttributeError\u001b[0m                            Traceback (most recent call last)",
      "\u001b[1;32mc:\\program files\\arcgis\\pro\\Resources\\ArcToolbox\\toolboxes\\Data Management Tools.tbx#CalculateGeometryAttributes_management.InitializeParameters.py\u001b[0m in \u001b[0;36m<module>\u001b[1;34m\u001b[0m\n",
      "\u001b[1;31mAttributeError\u001b[0m: 'ToolValidator' object has no attribute 'isLicensed'"
     ]
    },
    {
     "ename": "RuntimeError",
     "evalue": "Cannot find field 'AREA'",
     "output_type": "error",
     "traceback": [
      "\u001b[1;31m---------------------------------------------------------------------------\u001b[0m",
      "\u001b[1;31mRuntimeError\u001b[0m                              Traceback (most recent call last)",
      "\u001b[1;32mc:\\program files\\arcgis\\pro\\Resources\\ArcToolbox\\Scripts\\calculategeometry.py\u001b[0m in \u001b[0;36m<module>\u001b[1;34m\u001b[0m\n\u001b[0;32m    249\u001b[0m \u001b[1;33m\u001b[0m\u001b[0m\n\u001b[0;32m    250\u001b[0m     \u001b[1;31m# Run the main script\u001b[0m\u001b[1;33m\u001b[0m\u001b[1;33m\u001b[0m\u001b[1;33m\u001b[0m\u001b[0m\n\u001b[1;32m--> 251\u001b[1;33m     \u001b[0mCalculateGeometry\u001b[0m\u001b[1;33m(\u001b[0m\u001b[0mfc\u001b[0m\u001b[1;33m,\u001b[0m \u001b[0mproperties\u001b[0m\u001b[1;33m,\u001b[0m \u001b[0mlUnit\u001b[0m\u001b[1;33m,\u001b[0m \u001b[0maUnit\u001b[0m\u001b[1;33m,\u001b[0m \u001b[0mcs\u001b[0m\u001b[1;33m,\u001b[0m \u001b[0mcformat\u001b[0m\u001b[1;33m)\u001b[0m\u001b[1;33m\u001b[0m\u001b[1;33m\u001b[0m\u001b[0m\n\u001b[0m\u001b[0;32m    252\u001b[0m     \u001b[0marcpy\u001b[0m\u001b[1;33m.\u001b[0m\u001b[0mSetParameterAsText\u001b[0m\u001b[1;33m(\u001b[0m\u001b[1;36m5\u001b[0m\u001b[1;33m,\u001b[0m \u001b[0mfc\u001b[0m\u001b[1;33m)\u001b[0m\u001b[1;33m\u001b[0m\u001b[1;33m\u001b[0m\u001b[0m\n",
      "\u001b[1;32mc:\\program files\\arcgis\\pro\\Resources\\ArcToolbox\\Scripts\\calculategeometry.py\u001b[0m in \u001b[0;36mCalculateGeometry\u001b[1;34m(fc, properties, lUnit, aUnit, cs, cformat)\u001b[0m\n\u001b[0;32m     90\u001b[0m     \u001b[1;31m# Loop through data with update cursor\u001b[0m\u001b[1;33m\u001b[0m\u001b[1;33m\u001b[0m\u001b[1;33m\u001b[0m\u001b[0m\n\u001b[0;32m     91\u001b[0m     \u001b[1;32mwith\u001b[0m \u001b[0marcpy\u001b[0m\u001b[1;33m.\u001b[0m\u001b[0mda\u001b[0m\u001b[1;33m.\u001b[0m\u001b[0mUpdateCursor\u001b[0m\u001b[1;33m(\u001b[0m\u001b[0mfc\u001b[0m\u001b[1;33m,\u001b[0m \u001b[1;33m[\u001b[0m\u001b[1;34m\"SHAPE@\"\u001b[0m\u001b[1;33m,\u001b[0m \u001b[1;34m\"OID@\"\u001b[0m\u001b[1;33m]\u001b[0m \u001b[1;33m+\u001b[0m \u001b[0mlist\u001b[0m\u001b[1;33m(\u001b[0m\u001b[0mfields\u001b[0m\u001b[1;33m)\u001b[0m\u001b[1;33m,\u001b[0m \u001b[1;34m\"\"\u001b[0m\u001b[1;33m,\u001b[0m \u001b[0mcs\u001b[0m\u001b[1;33m)\u001b[0m \u001b[1;32mas\u001b[0m \u001b[0mucur\u001b[0m\u001b[1;33m:\u001b[0m\u001b[1;33m\u001b[0m\u001b[1;33m\u001b[0m\u001b[0m\n\u001b[1;32m---> 92\u001b[1;33m         \u001b[1;32mfor\u001b[0m \u001b[0mrow\u001b[0m \u001b[1;32min\u001b[0m \u001b[0mucur\u001b[0m\u001b[1;33m:\u001b[0m\u001b[1;33m\u001b[0m\u001b[1;33m\u001b[0m\u001b[0m\n\u001b[0m\u001b[0;32m     93\u001b[0m             \u001b[0mgeom\u001b[0m \u001b[1;33m=\u001b[0m \u001b[0mrow\u001b[0m\u001b[1;33m[\u001b[0m\u001b[1;36m0\u001b[0m\u001b[1;33m]\u001b[0m\u001b[1;33m\u001b[0m\u001b[1;33m\u001b[0m\u001b[0m\n\u001b[0;32m     94\u001b[0m             \u001b[1;31m# Check null geometry\u001b[0m\u001b[1;33m\u001b[0m\u001b[1;33m\u001b[0m\u001b[1;33m\u001b[0m\u001b[0m\n",
      "\u001b[1;31mRuntimeError\u001b[0m: Cannot find field 'AREA'"
     ]
    },
    {
     "ename": "ExecuteError",
     "evalue": "ERROR 000582: Error occurred during execution.\n",
     "output_type": "error",
     "traceback": [
      "\u001b[1;31m---------------------------------------------------------------------------\u001b[0m",
      "\u001b[1;31mExecuteError\u001b[0m                              Traceback (most recent call last)",
      "\u001b[1;32m<ipython-input-45-0f712173f0a0>\u001b[0m in \u001b[0;36m<module>\u001b[1;34m\u001b[0m\n\u001b[0;32m      1\u001b[0m \u001b[1;31m#calculate area of subwatershed\u001b[0m\u001b[1;33m\u001b[0m\u001b[1;33m\u001b[0m\u001b[1;33m\u001b[0m\u001b[0m\n\u001b[1;32m----> 2\u001b[1;33m \u001b[0marea\u001b[0m \u001b[1;33m=\u001b[0m \u001b[0marcpy\u001b[0m\u001b[1;33m.\u001b[0m\u001b[0mCalculateGeometryAttributes_management\u001b[0m\u001b[1;33m(\u001b[0m\u001b[0msubwatershed\u001b[0m\u001b[1;33m,\u001b[0m \u001b[1;34m\"AREA\"\u001b[0m\u001b[1;33m,\u001b[0m \u001b[1;34m\"\"\u001b[0m\u001b[1;33m,\u001b[0m \u001b[1;34m\"SQUARE_MILES_US\"\u001b[0m\u001b[1;33m)\u001b[0m\u001b[1;33m\u001b[0m\u001b[1;33m\u001b[0m\u001b[0m\n\u001b[0m\u001b[0;32m      3\u001b[0m \u001b[0mprint\u001b[0m\u001b[1;33m(\u001b[0m\u001b[0marea\u001b[0m\u001b[1;33m)\u001b[0m\u001b[1;33m\u001b[0m\u001b[1;33m\u001b[0m\u001b[0m\n",
      "\u001b[1;32mC:\\Program Files\\ArcGIS\\Pro\\Resources\\ArcPy\\arcpy\\management.py\u001b[0m in \u001b[0;36mCalculateGeometryAttributes\u001b[1;34m(in_features, geometry_property, length_unit, area_unit, coordinate_system, coordinate_format)\u001b[0m\n\u001b[0;32m   3157\u001b[0m         \u001b[1;32mreturn\u001b[0m \u001b[0mretval\u001b[0m\u001b[1;33m\u001b[0m\u001b[1;33m\u001b[0m\u001b[0m\n\u001b[0;32m   3158\u001b[0m     \u001b[1;32mexcept\u001b[0m \u001b[0mException\u001b[0m \u001b[1;32mas\u001b[0m \u001b[0me\u001b[0m\u001b[1;33m:\u001b[0m\u001b[1;33m\u001b[0m\u001b[1;33m\u001b[0m\u001b[0m\n\u001b[1;32m-> 3159\u001b[1;33m         \u001b[1;32mraise\u001b[0m \u001b[0me\u001b[0m\u001b[1;33m\u001b[0m\u001b[1;33m\u001b[0m\u001b[0m\n\u001b[0m\u001b[0;32m   3160\u001b[0m \u001b[1;33m\u001b[0m\u001b[0m\n\u001b[0;32m   3161\u001b[0m \u001b[1;33m@\u001b[0m\u001b[0mgptooldoc\u001b[0m\u001b[1;33m(\u001b[0m\u001b[1;34m'CheckGeometry_management'\u001b[0m\u001b[1;33m,\u001b[0m \u001b[1;32mNone\u001b[0m\u001b[1;33m)\u001b[0m\u001b[1;33m\u001b[0m\u001b[1;33m\u001b[0m\u001b[0m\n",
      "\u001b[1;32mC:\\Program Files\\ArcGIS\\Pro\\Resources\\ArcPy\\arcpy\\management.py\u001b[0m in \u001b[0;36mCalculateGeometryAttributes\u001b[1;34m(in_features, geometry_property, length_unit, area_unit, coordinate_system, coordinate_format)\u001b[0m\n\u001b[0;32m   3154\u001b[0m     \u001b[1;32mfrom\u001b[0m \u001b[0marcpy\u001b[0m\u001b[1;33m.\u001b[0m\u001b[0marcobjects\u001b[0m\u001b[1;33m.\u001b[0m\u001b[0marcobjectconversion\u001b[0m \u001b[1;32mimport\u001b[0m \u001b[0mconvertArcObjectToPythonObject\u001b[0m\u001b[1;33m\u001b[0m\u001b[1;33m\u001b[0m\u001b[0m\n\u001b[0;32m   3155\u001b[0m     \u001b[1;32mtry\u001b[0m\u001b[1;33m:\u001b[0m\u001b[1;33m\u001b[0m\u001b[1;33m\u001b[0m\u001b[0m\n\u001b[1;32m-> 3156\u001b[1;33m         \u001b[0mretval\u001b[0m \u001b[1;33m=\u001b[0m \u001b[0mconvertArcObjectToPythonObject\u001b[0m\u001b[1;33m(\u001b[0m\u001b[0mgp\u001b[0m\u001b[1;33m.\u001b[0m\u001b[0mCalculateGeometryAttributes_management\u001b[0m\u001b[1;33m(\u001b[0m\u001b[1;33m*\u001b[0m\u001b[0mgp_fixargs\u001b[0m\u001b[1;33m(\u001b[0m\u001b[1;33m(\u001b[0m\u001b[0min_features\u001b[0m\u001b[1;33m,\u001b[0m \u001b[0mgeometry_property\u001b[0m\u001b[1;33m,\u001b[0m \u001b[0mlength_unit\u001b[0m\u001b[1;33m,\u001b[0m \u001b[0marea_unit\u001b[0m\u001b[1;33m,\u001b[0m \u001b[0mcoordinate_system\u001b[0m\u001b[1;33m,\u001b[0m \u001b[0mcoordinate_format\u001b[0m\u001b[1;33m)\u001b[0m\u001b[1;33m,\u001b[0m \u001b[1;32mTrue\u001b[0m\u001b[1;33m)\u001b[0m\u001b[1;33m)\u001b[0m\u001b[1;33m)\u001b[0m\u001b[1;33m\u001b[0m\u001b[1;33m\u001b[0m\u001b[0m\n\u001b[0m\u001b[0;32m   3157\u001b[0m         \u001b[1;32mreturn\u001b[0m \u001b[0mretval\u001b[0m\u001b[1;33m\u001b[0m\u001b[1;33m\u001b[0m\u001b[0m\n\u001b[0;32m   3158\u001b[0m     \u001b[1;32mexcept\u001b[0m \u001b[0mException\u001b[0m \u001b[1;32mas\u001b[0m \u001b[0me\u001b[0m\u001b[1;33m:\u001b[0m\u001b[1;33m\u001b[0m\u001b[1;33m\u001b[0m\u001b[0m\n",
      "\u001b[1;32mC:\\Program Files\\ArcGIS\\Pro\\Resources\\ArcPy\\arcpy\\geoprocessing\\_base.py\u001b[0m in \u001b[0;36m<lambda>\u001b[1;34m(*args)\u001b[0m\n\u001b[0;32m    509\u001b[0m         \u001b[0mval\u001b[0m \u001b[1;33m=\u001b[0m \u001b[0mgetattr\u001b[0m\u001b[1;33m(\u001b[0m\u001b[0mself\u001b[0m\u001b[1;33m.\u001b[0m\u001b[0m_gp\u001b[0m\u001b[1;33m,\u001b[0m \u001b[0mattr\u001b[0m\u001b[1;33m)\u001b[0m\u001b[1;33m\u001b[0m\u001b[1;33m\u001b[0m\u001b[0m\n\u001b[0;32m    510\u001b[0m         \u001b[1;32mif\u001b[0m \u001b[0mcallable\u001b[0m\u001b[1;33m(\u001b[0m\u001b[0mval\u001b[0m\u001b[1;33m)\u001b[0m\u001b[1;33m:\u001b[0m\u001b[1;33m\u001b[0m\u001b[1;33m\u001b[0m\u001b[0m\n\u001b[1;32m--> 511\u001b[1;33m             \u001b[1;32mreturn\u001b[0m \u001b[1;32mlambda\u001b[0m \u001b[1;33m*\u001b[0m\u001b[0margs\u001b[0m\u001b[1;33m:\u001b[0m \u001b[0mval\u001b[0m\u001b[1;33m(\u001b[0m\u001b[1;33m*\u001b[0m\u001b[0mgp_fixargs\u001b[0m\u001b[1;33m(\u001b[0m\u001b[0margs\u001b[0m\u001b[1;33m,\u001b[0m \u001b[1;32mTrue\u001b[0m\u001b[1;33m)\u001b[0m\u001b[1;33m)\u001b[0m\u001b[1;33m\u001b[0m\u001b[1;33m\u001b[0m\u001b[0m\n\u001b[0m\u001b[0;32m    512\u001b[0m         \u001b[1;32melse\u001b[0m\u001b[1;33m:\u001b[0m\u001b[1;33m\u001b[0m\u001b[1;33m\u001b[0m\u001b[0m\n\u001b[0;32m    513\u001b[0m             \u001b[1;32mreturn\u001b[0m \u001b[0mconvertArcObjectToPythonObject\u001b[0m\u001b[1;33m(\u001b[0m\u001b[0mval\u001b[0m\u001b[1;33m)\u001b[0m\u001b[1;33m\u001b[0m\u001b[1;33m\u001b[0m\u001b[0m\n",
      "\u001b[1;31mExecuteError\u001b[0m: ERROR 000582: Error occurred during execution.\n"
     ]
    }
   ],
   "source": [
    "#calculate area of subwatershed\n",
    "arcpy.AddField_management(subwatershed, )\n",
    "area = arcpy.CalculateGeometryAttributes_management(subwatershed, \"AREA\", \"\", \"SQUARE_MILES_US\")\n",
    "print(area)"
   ]
  },
  {
   "cell_type": "code",
   "execution_count": null,
   "metadata": {},
   "outputs": [],
   "source": [
    "#calculate perimeter of subwatershed\n",
    "perimeter = arcpy.CalculateGeometryAttributes_management"
   ]
  },
  {
   "cell_type": "code",
   "execution_count": null,
   "metadata": {},
   "outputs": [],
   "source": [
    "#calculate watershed length\n",
    "#distance from outlet to watershed boundary along the main channel\n"
   ]
  }
 ],
 "metadata": {
  "kernelspec": {
   "display_name": "Python 3",
   "language": "python",
   "name": "python3"
  },
  "language_info": {
   "codemirror_mode": {
    "name": "ipython",
    "version": 3
   },
   "file_extension": ".py",
   "mimetype": "text/x-python",
   "name": "python",
   "nbconvert_exporter": "python",
   "pygments_lexer": "ipython3",
   "version": "3.6.9"
  }
 },
 "nbformat": 4,
 "nbformat_minor": 2
}
